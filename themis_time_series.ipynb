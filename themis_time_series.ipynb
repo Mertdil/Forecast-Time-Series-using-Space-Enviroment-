{
 "cells": [
  {
   "cell_type": "code",
   "execution_count": 1,
   "metadata": {},
   "outputs": [],
   "source": [
    "%matplotlib inline\n",
    "import matplotlib.pyplot as plt\n",
    "\n",
    "import numpy as np\n",
    "import pandas as pd\n",
    "import math\n",
    "from datetime import datetime as dt\n",
    "from IPython.display import Image, HTML\n",
    "\n",
    "from sklearn.svm import SVR\n",
    "from sklearn.preprocessing import MinMaxScaler\n",
    "from sklearn.metrics import mean_squared_error, r2_score\n",
    "\n",
    "from tensorflow.keras.models import Sequential\n",
    "from tensorflow.keras.layers import LSTM, Dense, Activation, Dropout\n",
    "from tensorflow.keras.optimizers import Adam\n",
    "import tensorflow.keras.backend as K"
   ]
  },
  {
   "cell_type": "code",
   "execution_count": 2,
   "metadata": {},
   "outputs": [],
   "source": [
    "def create_dates(start,days):\n",
    "    v = pd.date_range(start=start, periods=days+1, freq='H', closed='right')\n",
    "    seven_day_forecast = pd.DataFrame(index=v) \n",
    "    return seven_day_forecast"
   ]
  },
  {
   "cell_type": "code",
   "execution_count": 3,
   "metadata": {},
   "outputs": [],
   "source": [
    "# get values, station name and drop null values\n",
    "def get_value_name(all_station_temp,i):\n",
    "    station_value = all_station_temp[[all_station_temp.columns[i]]].dropna()\n",
    "    station_name = all_station_temp.columns[i]\n",
    "    return station_value, station_name "
   ]
  },
  {
   "cell_type": "code",
   "execution_count": 4,
   "metadata": {},
   "outputs": [],
   "source": [
    "# train-test split for a user input ratio\n",
    "def train_test_split(value, name, ratio):\n",
    "    nrow = len(value)\n",
    "    print(name+' total samples: ',nrow)\n",
    "    split_row = int((nrow)*ratio)\n",
    "    print('Training samples: ',split_row)\n",
    "    print('Testing samples: ',nrow-split_row)\n",
    "    train = value.iloc[:split_row]\n",
    "    test = value.iloc[split_row:]\n",
    "    return train, test, split_row     "
   ]
  },
  {
   "cell_type": "code",
   "execution_count": 5,
   "metadata": {},
   "outputs": [],
   "source": [
    "# data transformation\n",
    "def data_transformation(train_tract1,test_tract1):\n",
    "    scaler = MinMaxScaler()\n",
    "    train_tract1_scaled = scaler.fit_transform(train_tract1)\n",
    "    test_tract1_scaled = scaler.fit_transform(test_tract1)          \n",
    "    train_tract1_scaled_df = pd.DataFrame(train_tract1_scaled, index = train_tract1.index, columns=[train_tract1.columns[0]])\n",
    "    test_tract1_scaled_df = pd.DataFrame(test_tract1_scaled,\n",
    "                                         index = test_tract1.index, columns=[test_tract1.columns[0]])\n",
    "    return train_tract1_scaled_df, test_tract1_scaled_df, scaler     "
   ]
  },
  {
   "cell_type": "code",
   "execution_count": 6,
   "metadata": {},
   "outputs": [],
   "source": [
    "# feature builder - This section creates feature set with lag number of predictors--Creating features using lagged data\n",
    "def timeseries_feature_builder(df, lag):\n",
    "    df_copy = df.copy()\n",
    "    for i in range(1,lag):\n",
    "        df_copy['lag'+str(i)] = df.shift(i) \n",
    "    return df_copy\n",
    "    df_copy = df.copy()"
   ]
  },
  {
   "cell_type": "code",
   "execution_count": 7,
   "metadata": {},
   "outputs": [],
   "source": [
    "# preprocessing -- drop null values and make arrays \n",
    "def make_arrays(train_tract1,test_tract1):\n",
    "    X_train_tract1_array = train_tract1.dropna().drop(train_tract1.columns[0], axis=1).values\n",
    "    y_train_tract1_array = train_tract1.dropna()[train_tract1.columns[0]].values\n",
    "    X_test_tract1_array = test_tract1.dropna().drop(test_tract1.columns[0], axis=1).values\n",
    "    y_test_tract1_array = test_tract1.dropna()[test_tract1.columns[0]].values    \n",
    "    return X_train_tract1_array, y_train_tract1_array, X_test_tract1_array, y_test_tract1_array"
   ]
  },
  {
   "cell_type": "code",
   "execution_count": 8,
   "metadata": {},
   "outputs": [],
   "source": [
    "# validation result \n",
    "def valid_result(model, testX, y_test_tract1_array, scaler, station_value, split_row, lag):    \n",
    "    testPredict = model.predict(testX)\n",
    "    rSquare_test = r2_score(y_test_tract1_array, testPredict)\n",
    "    print('Test R-squared is: %f'%rSquare_test)    \n",
    "    testPredict = scaler.inverse_transform(testPredict)        \n",
    "    new_test_tract1 = station_value.iloc[split_row:]       \n",
    "    test_tract1_pred = new_test_tract1.iloc[lag:].copy()\n",
    "    test_tract1_pred['Forecast'] = testPredict\n",
    "   \n",
    "    return test_tract1_pred"
   ]
  },
  {
   "cell_type": "code",
   "execution_count": 9,
   "metadata": {},
   "outputs": [],
   "source": [
    "# multi step future forecast for next days number of days. \n",
    "def forecast(model, testX, test_tract1, lag, scaler, days):\n",
    "    seven_days = []\n",
    "    new0 = testX[-1]        \n",
    "    last = test_tract1.iloc[-1]\n",
    "    new_predict = last[0]        \n",
    "    new_array = np.insert(new0, 0, new_predict)        \n",
    "    new_array = np.delete(new_array, -1)\n",
    "    new_array_reshape = np.reshape(new_array, (-1,1,lag))       \n",
    "    new_predict = model.predict(new_array_reshape)\n",
    "    temp_predict = scaler.inverse_transform(new_predict) \n",
    "    seven_days.append(temp_predict[0][0].round(2))\n",
    "    \n",
    "    for i in range(1,days):\n",
    "        new_array = np.insert(new_array, 0, new_predict)             \n",
    "        new_array = np.delete(new_array, -1)\n",
    "        new_array_reshape = np.reshape(new_array, (-1,1,lag))            \n",
    "        new_predict = model.predict(new_array_reshape)\n",
    "        temp_predict = scaler.inverse_transform(new_predict) \n",
    "        seven_days.append(temp_predict[0][0].round(2))\n",
    "    return seven_days  "
   ]
  },
  {
   "cell_type": "code",
   "execution_count": 26,
   "metadata": {},
   "outputs": [
    {
     "data": {
      "text/html": [
       "<div>\n",
       "<style scoped>\n",
       "    .dataframe tbody tr th:only-of-type {\n",
       "        vertical-align: middle;\n",
       "    }\n",
       "\n",
       "    .dataframe tbody tr th {\n",
       "        vertical-align: top;\n",
       "    }\n",
       "\n",
       "    .dataframe thead th {\n",
       "        text-align: right;\n",
       "    }\n",
       "</style>\n",
       "<table border=\"1\" class=\"dataframe\">\n",
       "  <thead>\n",
       "    <tr style=\"text-align: right;\">\n",
       "      <th></th>\n",
       "      <th>FGS-D_B_TOTAL__nT</th>\n",
       "      <th>BX_FGS-D_(@_1_)_nT_GSM</th>\n",
       "      <th>BY_FGS-D_(@_2_)_nT_GSM</th>\n",
       "      <th>BZ_FGS-D_(@_3_)_nT_GSM</th>\n",
       "    </tr>\n",
       "    <tr>\n",
       "      <th>UT__yyyy-mm-ddThh:mm:ss.sssZ</th>\n",
       "      <th></th>\n",
       "      <th></th>\n",
       "      <th></th>\n",
       "      <th></th>\n",
       "    </tr>\n",
       "  </thead>\n",
       "  <tbody>\n",
       "    <tr>\n",
       "      <th>2021-01-25 00:00:02.727000+00:00</th>\n",
       "      <td>10.88450</td>\n",
       "      <td>-1.765320</td>\n",
       "      <td>-6.16529</td>\n",
       "      <td>8.79458</td>\n",
       "    </tr>\n",
       "    <tr>\n",
       "      <th>2021-01-25 00:00:07.042000+00:00</th>\n",
       "      <td>10.79940</td>\n",
       "      <td>-1.554550</td>\n",
       "      <td>-6.30408</td>\n",
       "      <td>8.62959</td>\n",
       "    </tr>\n",
       "    <tr>\n",
       "      <th>2021-01-25 00:00:11.356000+00:00</th>\n",
       "      <td>10.95990</td>\n",
       "      <td>-1.946640</td>\n",
       "      <td>-5.88450</td>\n",
       "      <td>9.03896</td>\n",
       "    </tr>\n",
       "    <tr>\n",
       "      <th>2021-01-25 00:00:15.671000+00:00</th>\n",
       "      <td>11.21240</td>\n",
       "      <td>-3.711290</td>\n",
       "      <td>-6.41432</td>\n",
       "      <td>8.41431</td>\n",
       "    </tr>\n",
       "    <tr>\n",
       "      <th>2021-01-25 00:00:19.986000+00:00</th>\n",
       "      <td>11.67790</td>\n",
       "      <td>-0.810750</td>\n",
       "      <td>-6.44283</td>\n",
       "      <td>9.70597</td>\n",
       "    </tr>\n",
       "    <tr>\n",
       "      <th>...</th>\n",
       "      <td>...</td>\n",
       "      <td>...</td>\n",
       "      <td>...</td>\n",
       "      <td>...</td>\n",
       "    </tr>\n",
       "    <tr>\n",
       "      <th>2021-02-24 23:59:39.895000+00:00</th>\n",
       "      <td>7.64928</td>\n",
       "      <td>-0.123396</td>\n",
       "      <td>2.98343</td>\n",
       "      <td>-7.04240</td>\n",
       "    </tr>\n",
       "    <tr>\n",
       "      <th>2021-02-24 23:59:44.210000+00:00</th>\n",
       "      <td>7.38629</td>\n",
       "      <td>0.609385</td>\n",
       "      <td>2.87220</td>\n",
       "      <td>-6.77764</td>\n",
       "    </tr>\n",
       "    <tr>\n",
       "      <th>2021-02-24 23:59:48.524000+00:00</th>\n",
       "      <td>7.78073</td>\n",
       "      <td>0.854973</td>\n",
       "      <td>2.99411</td>\n",
       "      <td>-7.13050</td>\n",
       "    </tr>\n",
       "    <tr>\n",
       "      <th>2021-02-24 23:59:52.839000+00:00</th>\n",
       "      <td>7.50465</td>\n",
       "      <td>1.012860</td>\n",
       "      <td>2.88432</td>\n",
       "      <td>-6.85381</td>\n",
       "    </tr>\n",
       "    <tr>\n",
       "      <th>2021-02-24 23:59:57.153000+00:00</th>\n",
       "      <td>7.77466</td>\n",
       "      <td>0.087711</td>\n",
       "      <td>2.59002</td>\n",
       "      <td>-7.33004</td>\n",
       "    </tr>\n",
       "  </tbody>\n",
       "</table>\n",
       "<p>590867 rows × 4 columns</p>\n",
       "</div>"
      ],
      "text/plain": [
       "                                  FGS-D_B_TOTAL__nT  BX_FGS-D_(@_1_)_nT_GSM  \\\n",
       "UT__yyyy-mm-ddThh:mm:ss.sssZ                                                  \n",
       "2021-01-25 00:00:02.727000+00:00           10.88450               -1.765320   \n",
       "2021-01-25 00:00:07.042000+00:00           10.79940               -1.554550   \n",
       "2021-01-25 00:00:11.356000+00:00           10.95990               -1.946640   \n",
       "2021-01-25 00:00:15.671000+00:00           11.21240               -3.711290   \n",
       "2021-01-25 00:00:19.986000+00:00           11.67790               -0.810750   \n",
       "...                                             ...                     ...   \n",
       "2021-02-24 23:59:39.895000+00:00            7.64928               -0.123396   \n",
       "2021-02-24 23:59:44.210000+00:00            7.38629                0.609385   \n",
       "2021-02-24 23:59:48.524000+00:00            7.78073                0.854973   \n",
       "2021-02-24 23:59:52.839000+00:00            7.50465                1.012860   \n",
       "2021-02-24 23:59:57.153000+00:00            7.77466                0.087711   \n",
       "\n",
       "                                  BY_FGS-D_(@_2_)_nT_GSM  \\\n",
       "UT__yyyy-mm-ddThh:mm:ss.sssZ                               \n",
       "2021-01-25 00:00:02.727000+00:00                -6.16529   \n",
       "2021-01-25 00:00:07.042000+00:00                -6.30408   \n",
       "2021-01-25 00:00:11.356000+00:00                -5.88450   \n",
       "2021-01-25 00:00:15.671000+00:00                -6.41432   \n",
       "2021-01-25 00:00:19.986000+00:00                -6.44283   \n",
       "...                                                  ...   \n",
       "2021-02-24 23:59:39.895000+00:00                 2.98343   \n",
       "2021-02-24 23:59:44.210000+00:00                 2.87220   \n",
       "2021-02-24 23:59:48.524000+00:00                 2.99411   \n",
       "2021-02-24 23:59:52.839000+00:00                 2.88432   \n",
       "2021-02-24 23:59:57.153000+00:00                 2.59002   \n",
       "\n",
       "                                  BZ_FGS-D_(@_3_)_nT_GSM  \n",
       "UT__yyyy-mm-ddThh:mm:ss.sssZ                              \n",
       "2021-01-25 00:00:02.727000+00:00                 8.79458  \n",
       "2021-01-25 00:00:07.042000+00:00                 8.62959  \n",
       "2021-01-25 00:00:11.356000+00:00                 9.03896  \n",
       "2021-01-25 00:00:15.671000+00:00                 8.41431  \n",
       "2021-01-25 00:00:19.986000+00:00                 9.70597  \n",
       "...                                                  ...  \n",
       "2021-02-24 23:59:39.895000+00:00                -7.04240  \n",
       "2021-02-24 23:59:44.210000+00:00                -6.77764  \n",
       "2021-02-24 23:59:48.524000+00:00                -7.13050  \n",
       "2021-02-24 23:59:52.839000+00:00                -6.85381  \n",
       "2021-02-24 23:59:57.153000+00:00                -7.33004  \n",
       "\n",
       "[590867 rows x 4 columns]"
      ]
     },
     "execution_count": 26,
     "metadata": {},
     "output_type": "execute_result"
    }
   ],
   "source": [
    "themis=pd.read_csv(r\"/Users/mertdil/Downloads/THB_L2_FGM_120345.csv\",index_col=[0],parse_dates=[0])\n",
    "\n",
    "themis"
   ]
  },
  {
   "cell_type": "code",
   "execution_count": 27,
   "metadata": {
    "scrolled": true
   },
   "outputs": [
    {
     "data": {
      "text/plain": [
       "[<matplotlib.lines.Line2D at 0x7ff0ce4322b0>]"
      ]
     },
     "execution_count": 27,
     "metadata": {},
     "output_type": "execute_result"
    },
    {
     "data": {
      "image/png": "[encoded data removed]",
      "text/plain": [
       "<Figure size 1440x720 with 1 Axes>"
      ]
     },
     "metadata": {
      "needs_background": "light"
     },
     "output_type": "display_data"
    }
   ],
   "source": [
    "plt.figure(figsize=(20,10))\n",
    "plt.xlabel(\"Date\")\n",
    "plt.ylabel(\"Total Magnetic Field\")\n",
    "plt.plot(themis['FGS-D_B_TOTAL__nT'])\n",
    "\n"
   ]
  },
  {
   "cell_type": "code",
   "execution_count": 13,
   "metadata": {},
   "outputs": [],
   "source": [
    "# Define LSTM model\n",
    "def lstm_model(units, trainX, testX, y_train_tract1_array, y_test_tract1_array):\n",
    "    model = Sequential()\n",
    "    model.add(LSTM(units,return_sequences=True, input_shape=(trainX.shape[1],trainX.shape[2]),kernel_initializer='lecun_uniform'))\n",
    "    model.add(Dropout(0.2))    \n",
    "    model.add(LSTM(units, return_sequences=True))\n",
    "    model.add(Dropout(0.2))    \n",
    "    model.add(LSTM(units))\n",
    "    model.add(Dropout(0.2))\n",
    "    model.add(Dense(1))        \n",
    "    model.compile(optimizer=Adam(lr=0.001), loss='mean_squared_error')\n",
    "    \n",
    "    model.fit(trainX, y_train_tract1_array, batch_size=40, epochs=100, validation_data=(testX, y_test_tract1_array), verbose=0)\n",
    "    return model"
   ]
  },
  {
   "cell_type": "code",
   "execution_count": 28,
   "metadata": {},
   "outputs": [],
   "source": [
    "def england_temp_lstm(all_station_temp, lag, days):    \n",
    "    \n",
    "    seven_day_forecast_lstm = create_dates(\"2021-02-24 23:59:39.895000+00:00\" ,days) \n",
    "    \n",
    "    for i in range(len(all_station_temp.columns)):\n",
    "        \n",
    "        # preprocessing\n",
    "        station_value, station_name = get_value_name(all_station_temp,i)        \n",
    "        train_tract1, test_tract1, split_row = train_test_split(station_value, station_name, 0.80)        \n",
    "        train_tract1_scaled_df, test_tract1_scaled_df, scaler = data_transformation(train_tract1,test_tract1) \n",
    "        train_tract1 = timeseries_feature_builder(train_tract1_scaled_df, lag+1) \n",
    "        test_tract1 = timeseries_feature_builder(test_tract1_scaled_df, lag+1)               \n",
    "        X_train_tract1_array, y_train_tract1_array, X_test_tract1_array, y_test_tract1_array = make_arrays(train_tract1, \n",
    "                                                                                                           test_tract1)        \n",
    "        trainX = np.reshape(X_train_tract1_array, (X_train_tract1_array.shape[0],1,X_train_tract1_array.shape[1]))\n",
    "        testX = np.reshape(X_test_tract1_array, (X_test_tract1_array.shape[0],1,X_test_tract1_array.shape[1]))                \n",
    "        \n",
    "        # LSTM modelling & forecast\n",
    "        model = lstm_model(20, trainX, testX, y_train_tract1_array, y_test_tract1_array)             \n",
    "        test_tract1_pred = valid_result(model, testX, y_test_tract1_array, scaler, station_value, split_row, lag)        \n",
    "        seven_days = forecast(model, testX, test_tract1, lag, scaler, days)       \n",
    "        seven_day_forecast_lstm[station_name] = np.array(seven_days)       \n",
    "        \n",
    "        # plot result\n",
    "        plt.figure(figsize=(18,10))\n",
    "        plt.plot(test_tract1_pred,label=\"actual\")\n",
    "        \n",
    "        plt.plot(seven_day_forecast_lstm[station_name], color='red')\n",
    "        plt.xlabel(\"Time Interval \")\n",
    "        plt.ylabel(station_name)\n",
    "        plt.legend( [\"actual\",'predicted','forecast'])\n",
    "        plt.tight_layout()\n",
    "        #sns.despine(top=True)\n",
    "        plt.subplots_adjust(left=0.1)\n",
    "        plt.title(station_name+ \" vs hours\")\n",
    "        plt.show()        \n",
    "        print()\n",
    "    return(seven_day_forecast_lstm)"
   ]
  },
  {
   "cell_type": "code",
   "execution_count": null,
   "metadata": {
    "scrolled": false
   },
   "outputs": [
    {
     "name": "stdout",
     "output_type": "stream",
     "text": [
      "FGS-D_B_TOTAL__nT total samples:  590867\n",
      "Training samples:  472693\n",
      "Testing samples:  118174\n"
     ]
    }
   ],
   "source": [
    "%%time\n",
    "# Fitting and forecast using LSTM  -- output of train loss and valid loss is turned off\n",
    "lstm_prediction = england_temp_lstm(themis,100,20)"
   ]
  },
  {
   "cell_type": "code",
   "execution_count": null,
   "metadata": {},
   "outputs": [],
   "source": []
  },
  {
   "cell_type": "code",
   "execution_count": null,
   "metadata": {},
   "outputs": [],
   "source": []
  },
  {
   "cell_type": "code",
   "execution_count": null,
   "metadata": {},
   "outputs": [],
   "source": []
  },
  {
   "cell_type": "code",
   "execution_count": null,
   "metadata": {},
   "outputs": [],
   "source": []
  }
 ],
 "metadata": {
  "kernelspec": {
   "display_name": "Python 3",
   "language": "python",
   "name": "python3"
  },
  "language_info": {
   "codemirror_mode": {
    "name": "ipython",
    "version": 3
   },
   "file_extension": ".py",
   "mimetype": "text/x-python",
   "name": "python",
   "nbconvert_exporter": "python",
   "pygments_lexer": "ipython3",
   "version": "3.8.3"
  }
 },
 "nbformat": 4,
 "nbformat_minor": 4
}
